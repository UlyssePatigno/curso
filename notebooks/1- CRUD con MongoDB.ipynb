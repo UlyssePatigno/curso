{
 "cells": [
  {
   "cell_type": "markdown",
   "metadata": {},
   "source": [
    "# Conexión a MongoDB\n",
    "\n",
    "Para conectarnos a MongoDB debemos usar la libreria de `pymongo`"
   ]
  },
  {
   "cell_type": "code",
   "execution_count": 1,
   "metadata": {
    "collapsed": true
   },
   "outputs": [],
   "source": [
    "from datetime import datetime, timedelta\n",
    "\n",
    "import pymongo\n",
    "from pymongo import MongoClient"
   ]
  },
  {
   "cell_type": "markdown",
   "metadata": {},
   "source": [
    "Es necesario conectarse usando la dirección del servidor y el usuario de la base de datos"
   ]
  },
  {
   "cell_type": "code",
   "execution_count": 2,
   "metadata": {
    "collapsed": false
   },
   "outputs": [
    {
     "data": {
      "text/plain": [
       "True"
      ]
     },
     "execution_count": 2,
     "metadata": {},
     "output_type": "execute_result"
    }
   ],
   "source": [
    "connection = MongoClient(\"ds050879.mlab.com\", 50879)\n",
    "db = connection[\"ibocerra\"]\n",
    "db.authenticate(\"dylan123\", \"dylan123\")"
   ]
  },
  {
   "cell_type": "code",
   "execution_count": 18,
   "metadata": {
    "collapsed": true
   },
   "outputs": [],
   "source": [
    "users = db.create_collection(\"users\")"
   ]
  },
  {
   "cell_type": "code",
   "execution_count": 19,
   "metadata": {
    "collapsed": false
   },
   "outputs": [
    {
     "data": {
      "text/plain": [
       "<pymongo.results.InsertOneResult at 0x7f663575adc8>"
      ]
     },
     "execution_count": 19,
     "metadata": {},
     "output_type": "execute_result"
    }
   ],
   "source": [
    "users.insert_one( { \"id\" : 10, \"name\" : \"ibo\" } )\n",
    "users.insert_one( { \"id\" : 11, \"name\" : \"chava\", \"password\" : \"1234\"} )\n",
    "users.insert_one( { \"id\" : 12, \"name\" : \"john\", \"password\" : \"john\"} )"
   ]
  },
  {
   "cell_type": "code",
   "execution_count": 20,
   "metadata": {
    "collapsed": false
   },
   "outputs": [
    {
     "name": "stdout",
     "output_type": "stream",
     "text": [
      "{'_id': ObjectId('583799f44f9cf70061ab92fa'), 'id': 10, 'name': 'ibo'}\n"
     ]
    }
   ],
   "source": [
    "user_ibo = users.find_one( { \"name\" : \"ibo\" } ) \n",
    "print(user_ibo)"
   ]
  },
  {
   "cell_type": "code",
   "execution_count": 21,
   "metadata": {
    "collapsed": false
   },
   "outputs": [
    {
     "name": "stdout",
     "output_type": "stream",
     "text": [
      "{'_id': ObjectId('583799f44f9cf70061ab92fb'), 'id': 11, 'name': 'chava', 'password': '1234'}\n",
      "{'_id': ObjectId('583799f44f9cf70061ab92fc'), 'id': 12, 'name': 'john', 'password': 'john'}\n"
     ]
    }
   ],
   "source": [
    "other_users = users.find( { \"id\" : { \"$gt\" : 10 }} )\n",
    "for user in other_users:\n",
    "    print(user)"
   ]
  },
  {
   "cell_type": "code",
   "execution_count": 17,
   "metadata": {
    "collapsed": true
   },
   "outputs": [],
   "source": [
    "db.drop_collection(\"users\")"
   ]
  },
  {
   "cell_type": "code",
   "execution_count": null,
   "metadata": {
    "collapsed": true
   },
   "outputs": [],
   "source": []
  }
 ],
 "metadata": {
  "kernelspec": {
   "display_name": "Python 3",
   "language": "python",
   "name": "python3"
  },
  "language_info": {
   "codemirror_mode": {
    "name": "ipython",
    "version": 3
   },
   "file_extension": ".py",
   "mimetype": "text/x-python",
   "name": "python",
   "nbconvert_exporter": "python",
   "pygments_lexer": "ipython3",
   "version": "3.5.1"
  }
 },
 "nbformat": 4,
 "nbformat_minor": 1
}
